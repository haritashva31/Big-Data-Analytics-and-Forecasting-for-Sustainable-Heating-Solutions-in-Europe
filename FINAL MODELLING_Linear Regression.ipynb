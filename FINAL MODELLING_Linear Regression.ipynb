{
 "cells": [
  {
   "cell_type": "code",
   "execution_count": 2,
   "id": "fb34d6cb",
   "metadata": {},
   "outputs": [
    {
     "name": "stdout",
     "output_type": "stream",
     "text": [
      "Number of DataFrames: 28\n",
      "Country Codes: ['EE', 'CZ', 'DK', 'BE', 'LV', 'AT', 'BG', 'LT', 'GR', 'PL', 'NO', 'FR', 'IT', 'HR', 'IE', 'FI', 'DE', 'HU', 'SK', 'GB', 'LU', 'SI', 'RO', 'CH', 'PT', 'ES', 'SE', 'NL']\n"
     ]
    }
   ],
   "source": [
    "import os\n",
    "import pandas as pd\n",
    "from sklearn.linear_model import LinearRegression\n",
    "from sklearn.preprocessing import StandardScaler\n",
    "\n",
    "# Set the path to the folder containing the CSV files\n",
    "folder_path = '/Downloads/Mini Project TY Final FILES/godsplan1'\n",
    "\n",
    "# Initialize an empty dictionary to store country-wise DataFrames\n",
    "country_dfs = {}\n",
    "\n",
    "# List all files in the folder\n",
    "files = os.listdir(folder_path)\n",
    "\n",
    "# Iterate through each file\n",
    "for file in files:\n",
    "    # Check if the file is a CSV file\n",
    "    if file.endswith('.csv'):\n",
    "        # Extract the country code from the file name (assuming it's the first two characters)\n",
    "        country_code = file[:2]\n",
    "\n",
    "        # Construct the full path to the CSV file\n",
    "        file_path = os.path.join(folder_path, file)\n",
    "\n",
    "        # Load the CSV file into a DataFrame\n",
    "        df = pd.read_csv(file_path)\n",
    "\n",
    "        # Store the DataFrame in the dictionary with the country code as the key\n",
    "        country_dfs[country_code] = df\n",
    "\n",
    "# Print the number of DataFrames and the country codes\n",
    "print(\"Number of DataFrames:\", len(country_dfs))\n",
    "print(\"Country Codes:\", list(country_dfs.keys()))"
   ]
  },
  {
   "cell_type": "code",
   "execution_count": 3,
   "id": "6968093a",
   "metadata": {},
   "outputs": [],
   "source": [
    "target_columns = [\n",
    "    'COP_ASHP_floor', 'COP_ASHP_radiator', 'COP_ASHP_water',\n",
    "    'COP_GSHP_floor', 'COP_GSHP_radiator', 'COP_GSHP_water',\n",
    "    'COP_WSHP_floor', 'COP_WSHP_radiator',\n",
    "    'heat_demand_space', 'heat_demand_space_COM', 'heat_demand_space_MFH', 'heat_demand_space_SFH',\n",
    "    'heat_demand_total', 'heat_demand_water', 'heat_demand_water_COM', 'heat_demand_water_MFH', 'heat_demand_water_SFH',\n",
    "    'heat_profile_space_COM', 'heat_profile_space_MFH', 'heat_profile_space_SFH',\n",
    "    'heat_profile_water_COM', 'heat_profile_water_MFH', 'heat_profile_water_SFH'\n",
    "]\n"
   ]
  },
  {
   "cell_type": "code",
   "execution_count": 4,
   "id": "62ba7935",
   "metadata": {},
   "outputs": [],
   "source": [
    "def generate_future_features(country_dfs, years=10):\n",
    "    future_features_dict = {}\n",
    "\n",
    "    for country_code, country_df in country_dfs.items():\n",
    "        # Extract the last timestamp in the historical data\n",
    "        last_timestamp = country_df['cet_cest_timestamp'].max()\n",
    "\n",
    "        # Generate future timestamps for the specified number of years\n",
    "        future_timestamps = pd.date_range(last_timestamp, periods=365 * years * 24, freq='H')[1:]\n",
    "\n",
    "        # Create a DataFrame with future timestamps and corresponding day, month, year, and hour\n",
    "        future_features = pd.DataFrame({\n",
    "            'day': future_timestamps.day,\n",
    "            'month': future_timestamps.month,\n",
    "            'year': future_timestamps.year,\n",
    "            'hour': future_timestamps.hour\n",
    "        })\n",
    "\n",
    "        future_features_dict[country_code] = future_features\n",
    "\n",
    "    return future_features_dict"
   ]
  },
  {
   "cell_type": "code",
   "execution_count": 5,
   "id": "7a0bf5ce",
   "metadata": {},
   "outputs": [],
   "source": [
    "future_features_dict = generate_future_features(country_dfs, years=15)"
   ]
  },
  {
   "cell_type": "code",
   "execution_count": 6,
   "id": "856f9c80",
   "metadata": {},
   "outputs": [],
   "source": [
    "def generate_predictions(country_dfs, future_features_dict, target_columns, years=10):\n",
    "    predicted_dfs = {}\n",
    "\n",
    "    for country_code, country_df in country_dfs.items():\n",
    "        # Extract relevant features and target variables for the country\n",
    "        features = country_df[['day', 'month', 'year', 'hour']]\n",
    "\n",
    "        # Check which target columns are present in the dataframe\n",
    "        present_target_columns = [col for col in target_columns if col in country_df.columns]\n",
    "\n",
    "        if not present_target_columns:\n",
    "            print(f\"No target columns found for {country_code}. Skipping...\")\n",
    "            continue\n",
    "\n",
    "        # Load corresponding future features\n",
    "        future_features = future_features_dict[country_code]\n",
    "\n",
    "        # Normalize or scale features\n",
    "        scaler = StandardScaler()\n",
    "        features_scaled = scaler.fit_transform(features)\n",
    "\n",
    "        # Build a linear regression model\n",
    "        model = LinearRegression()\n",
    "\n",
    "        # Train the model on the entire historical data for the specified target columns\n",
    "        model.fit(features_scaled, country_df[present_target_columns])\n",
    "\n",
    "        # Generate future predictions using the trained model\n",
    "        future_features_scaled = scaler.transform(future_features)\n",
    "        future_predictions = model.predict(future_features_scaled)\n",
    "\n",
    "        # Create a DataFrame for the predictions, including the original features columns\n",
    "        predictions_df = pd.DataFrame(future_predictions, columns=present_target_columns)\n",
    "        predictions_df[['day', 'month', 'year', 'hour']] = future_features[['day', 'month', 'year', 'hour']]\n",
    "        \n",
    "        # Save the predictions DataFrame in the predicted_dfs dictionary, named according to the country code\n",
    "        predicted_dfs[f\"{country_code}_predicted_df\"] = predictions_df\n",
    "\n",
    "    return predicted_dfs"
   ]
  },
  {
   "cell_type": "code",
   "execution_count": 8,
   "id": "9d937de4",
   "metadata": {},
   "outputs": [],
   "source": [
    "country_predicted_dfs = generate_predictions(country_dfs, future_features_dict, target_columns, years=15)"
   ]
  },
  {
   "cell_type": "code",
   "execution_count": 35,
   "id": "b4571c3e",
   "metadata": {},
   "outputs": [],
   "source": [
    "austria_predicted_df = country_predicted_dfs['AT_predicted_df']"
   ]
  },
  {
   "cell_type": "code",
   "execution_count": 36,
   "id": "499c79de",
   "metadata": {
    "scrolled": true
   },
   "outputs": [
    {
     "name": "stdout",
     "output_type": "stream",
     "text": [
      "    COP_ASHP_floor  COP_ASHP_radiator  COP_ASHP_water  COP_GSHP_floor  \\\n",
      "0         3.844614           3.741768        2.811424        5.437390   \n",
      "1         3.844697           3.741955        2.811393        5.437497   \n",
      "2         3.844781           3.742143        2.811361        5.437604   \n",
      "3         3.844865           3.742330        2.811330        5.437711   \n",
      "4         3.844949           3.742518        2.811299        5.437819   \n",
      "5         3.845033           3.742706        2.811267        5.437926   \n",
      "6         3.845116           3.742893        2.811236        5.438033   \n",
      "7         3.845200           3.743081        2.811205        5.438140   \n",
      "8         3.845284           3.743268        2.811173        5.438247   \n",
      "9         3.845368           3.743456        2.811142        5.438355   \n",
      "10        3.845452           3.743644        2.811111        5.438462   \n",
      "11        3.845535           3.743831        2.811079        5.438569   \n",
      "12        3.845619           3.744019        2.811048        5.438676   \n",
      "13        3.845703           3.744207        2.811017        5.438783   \n",
      "14        3.845787           3.744394        2.810985        5.438890   \n",
      "\n",
      "    COP_GSHP_radiator  COP_GSHP_water  COP_WSHP_floor  COP_WSHP_radiator  \\\n",
      "0            4.866190        3.377809        5.462716           4.851263   \n",
      "1            4.866400        3.377869        5.462755           4.851558   \n",
      "2            4.866609        3.377930        5.462795           4.851853   \n",
      "3            4.866818        3.377991        5.462835           4.852148   \n",
      "4            4.867028        3.378051        5.462875           4.852443   \n",
      "5            4.867237        3.378112        5.462915           4.852737   \n",
      "6            4.867446        3.378173        5.462955           4.853032   \n",
      "7            4.867655        3.378234        5.462994           4.853327   \n",
      "8            4.867865        3.378294        5.463034           4.853622   \n",
      "9            4.868074        3.378355        5.463074           4.853916   \n",
      "10           4.868283        3.378416        5.463114           4.854211   \n",
      "11           4.868493        3.378476        5.463154           4.854506   \n",
      "12           4.868702        3.378537        5.463194           4.854801   \n",
      "13           4.868911        3.378598        5.463233           4.855096   \n",
      "14           4.869121        3.378659        5.463273           4.855390   \n",
      "\n",
      "    heat_demand_space  heat_demand_space_COM  ...  heat_profile_space_COM  \\\n",
      "0         3135.974614             767.515803  ...               68.401286   \n",
      "1         3225.723849             787.158336  ...               69.708038   \n",
      "2         3315.473084             806.800870  ...               71.014791   \n",
      "3         3405.222319             826.443404  ...               72.321544   \n",
      "4         3494.971554             846.085938  ...               73.628297   \n",
      "5         3584.720789             865.728472  ...               74.935050   \n",
      "6         3674.470025             885.371006  ...               76.241803   \n",
      "7         3764.219260             905.013540  ...               77.548555   \n",
      "8         3853.968495             924.656074  ...               78.855308   \n",
      "9         3943.717730             944.298608  ...               80.162061   \n",
      "10        4033.466965             963.941142  ...               81.468814   \n",
      "11        4123.216200             983.583676  ...               82.775567   \n",
      "12        4212.965435            1003.226210  ...               84.082320   \n",
      "13        4302.714670            1022.868744  ...               85.389072   \n",
      "14        4392.463906            1042.511278  ...               86.695825   \n",
      "\n",
      "    heat_profile_space_MFH  heat_profile_space_SFH  heat_profile_water_COM  \\\n",
      "0                65.057755               58.137996              116.376334   \n",
      "1                66.986578               60.450356              116.163175   \n",
      "2                68.915400               62.762715              115.950016   \n",
      "3                70.844222               65.075074              115.736857   \n",
      "4                72.773045               67.387434              115.523698   \n",
      "5                74.701867               69.699793              115.310540   \n",
      "6                76.630689               72.012152              115.097381   \n",
      "7                78.559512               74.324511              114.884222   \n",
      "8                80.488334               76.636871              114.671063   \n",
      "9                82.417157               78.949230              114.457904   \n",
      "10               84.345979               81.261589              114.244746   \n",
      "11               86.274801               83.573948              114.031587   \n",
      "12               88.203624               85.886308              113.818428   \n",
      "13               90.132446               88.198667              113.605269   \n",
      "14               92.061268               90.511026              113.392110   \n",
      "\n",
      "    heat_profile_water_MFH  heat_profile_water_SFH  day  month  year  hour  \n",
      "0                99.237982               70.530400    1     11  2016     0  \n",
      "1               100.482795               74.260883    1     11  2016     1  \n",
      "2               101.727608               77.991366    1     11  2016     2  \n",
      "3               102.972422               81.721850    1     11  2016     3  \n",
      "4               104.217235               85.452333    1     11  2016     4  \n",
      "5               105.462049               89.182816    1     11  2016     5  \n",
      "6               106.706862               92.913299    1     11  2016     6  \n",
      "7               107.951675               96.643782    1     11  2016     7  \n",
      "8               109.196489              100.374265    1     11  2016     8  \n",
      "9               110.441302              104.104749    1     11  2016     9  \n",
      "10              111.686115              107.835232    1     11  2016    10  \n",
      "11              112.930929              111.565715    1     11  2016    11  \n",
      "12              114.175742              115.296198    1     11  2016    12  \n",
      "13              115.420555              119.026681    1     11  2016    13  \n",
      "14              116.665369              122.757164    1     11  2016    14  \n",
      "\n",
      "[15 rows x 27 columns]\n"
     ]
    }
   ],
   "source": [
    "print(austria_predicted_df.head(15))"
   ]
  },
  {
   "cell_type": "code",
   "execution_count": 42,
   "id": "6bca0681",
   "metadata": {},
   "outputs": [
    {
     "data": {
      "image/png": "[encoded data removed]",
      "text/plain": [
       "<Figure size 1200x600 with 1 Axes>"
      ]
     },
     "metadata": {},
     "output_type": "display_data"
    }
   ],
   "source": [
    "import matplotlib.pyplot as plt\n",
    "\n",
    "# Assuming 'country_dfs' is the dictionary containing DataFrames for different countries\n",
    "# and 'DE' is the country code for Germany\n",
    "\n",
    "# Specify the country code for which you want to plot the predictions\n",
    "country_code = 'DE'  # Change it to the desired country code\n",
    "\n",
    "# Check if DE DataFrame exists\n",
    "if 'DE_predicted_df' in country_predicted_dfs:\n",
    "    # Extract DE DataFrame\n",
    "    de_df = country_predicted_dfs['DE_predicted_df']\n",
    "\n",
    "    # Plotting\n",
    "    plt.figure(figsize=(12, 6))\n",
    "    plt.plot(de_df['year'], de_df['heat_demand_total'], label='Heat Demand Total', color='blue')\n",
    "    plt.title('Heat Demand Total Over the Years (DE)')\n",
    "    plt.xlabel('Timestamp')\n",
    "    plt.ylabel('Heat Demand Total')\n",
    "    plt.legend()\n",
    "    plt.show()\n",
    "else:\n",
    "    print(\"No DataFrame found for DE. Please make sure it exists in the 'country_dfs' dictionary.\")\n"
   ]
  },
  {
   "cell_type": "code",
   "execution_count": null,
   "id": "a0a5bc50",
   "metadata": {},
   "outputs": [],
   "source": []
  },
  {
   "cell_type": "code",
   "execution_count": null,
   "id": "18d0aebe",
   "metadata": {},
   "outputs": [],
   "source": []
  },
  {
   "cell_type": "code",
   "execution_count": 37,
   "id": "6e6500c0",
   "metadata": {},
   "outputs": [
    {
     "name": "stdout",
     "output_type": "stream",
     "text": [
      "Saved predicted DataFrame for EE_predicted_df to /Users/meetsmacbook/Downloads/predicted_final_final/EE_predicted_df_predicted_df.csv\n",
      "Saved predicted DataFrame for CZ_predicted_df to /Users/meetsmacbook/Downloads/predicted_final_final/CZ_predicted_df_predicted_df.csv\n",
      "Saved predicted DataFrame for DK_predicted_df to /Users/meetsmacbook/Downloads/predicted_final_final/DK_predicted_df_predicted_df.csv\n",
      "Saved predicted DataFrame for BE_predicted_df to /Users/meetsmacbook/Downloads/predicted_final_final/BE_predicted_df_predicted_df.csv\n",
      "Saved predicted DataFrame for LV_predicted_df to /Users/meetsmacbook/Downloads/predicted_final_final/LV_predicted_df_predicted_df.csv\n",
      "Saved predicted DataFrame for AT_predicted_df to /Users/meetsmacbook/Downloads/predicted_final_final/AT_predicted_df_predicted_df.csv\n",
      "Saved predicted DataFrame for BG_predicted_df to /Users/meetsmacbook/Downloads/predicted_final_final/BG_predicted_df_predicted_df.csv\n",
      "Saved predicted DataFrame for LT_predicted_df to /Users/meetsmacbook/Downloads/predicted_final_final/LT_predicted_df_predicted_df.csv\n",
      "Saved predicted DataFrame for GR_predicted_df to /Users/meetsmacbook/Downloads/predicted_final_final/GR_predicted_df_predicted_df.csv\n",
      "Saved predicted DataFrame for PL_predicted_df to /Users/meetsmacbook/Downloads/predicted_final_final/PL_predicted_df_predicted_df.csv\n",
      "Saved predicted DataFrame for NO_predicted_df to /Users/meetsmacbook/Downloads/predicted_final_final/NO_predicted_df_predicted_df.csv\n",
      "Saved predicted DataFrame for FR_predicted_df to /Users/meetsmacbook/Downloads/predicted_final_final/FR_predicted_df_predicted_df.csv\n",
      "Saved predicted DataFrame for IT_predicted_df to /Users/meetsmacbook/Downloads/predicted_final_final/IT_predicted_df_predicted_df.csv\n",
      "Saved predicted DataFrame for HR_predicted_df to /Users/meetsmacbook/Downloads/predicted_final_final/HR_predicted_df_predicted_df.csv\n",
      "Saved predicted DataFrame for IE_predicted_df to /Users/meetsmacbook/Downloads/predicted_final_final/IE_predicted_df_predicted_df.csv\n",
      "Saved predicted DataFrame for FI_predicted_df to /Users/meetsmacbook/Downloads/predicted_final_final/FI_predicted_df_predicted_df.csv\n",
      "Saved predicted DataFrame for DE_predicted_df to /Users/meetsmacbook/Downloads/predicted_final_final/DE_predicted_df_predicted_df.csv\n",
      "Saved predicted DataFrame for HU_predicted_df to /Users/meetsmacbook/Downloads/predicted_final_final/HU_predicted_df_predicted_df.csv\n",
      "Saved predicted DataFrame for SK_predicted_df to /Users/meetsmacbook/Downloads/predicted_final_final/SK_predicted_df_predicted_df.csv\n",
      "Saved predicted DataFrame for GB_predicted_df to /Users/meetsmacbook/Downloads/predicted_final_final/GB_predicted_df_predicted_df.csv\n",
      "Saved predicted DataFrame for LU_predicted_df to /Users/meetsmacbook/Downloads/predicted_final_final/LU_predicted_df_predicted_df.csv\n",
      "Saved predicted DataFrame for SI_predicted_df to /Users/meetsmacbook/Downloads/predicted_final_final/SI_predicted_df_predicted_df.csv\n",
      "Saved predicted DataFrame for RO_predicted_df to /Users/meetsmacbook/Downloads/predicted_final_final/RO_predicted_df_predicted_df.csv\n",
      "Saved predicted DataFrame for CH_predicted_df to /Users/meetsmacbook/Downloads/predicted_final_final/CH_predicted_df_predicted_df.csv\n",
      "Saved predicted DataFrame for PT_predicted_df to /Users/meetsmacbook/Downloads/predicted_final_final/PT_predicted_df_predicted_df.csv\n",
      "Saved predicted DataFrame for ES_predicted_df to /Users/meetsmacbook/Downloads/predicted_final_final/ES_predicted_df_predicted_df.csv\n",
      "Saved predicted DataFrame for SE_predicted_df to /Users/meetsmacbook/Downloads/predicted_final_final/SE_predicted_df_predicted_df.csv\n",
      "Saved predicted DataFrame for NL_predicted_df to /Users/meetsmacbook/Downloads/predicted_final_final/NL_predicted_df_predicted_df.csv\n"
     ]
    }
   ],
   "source": [
    "import os\n",
    "\n",
    "# Replace 'output_folder' with the desired folder path\n",
    "output_folder = '/Downloads/predicted_final_final'\n",
    "\n",
    "# Create the output folder if it doesn't exist\n",
    "os.makedirs(output_folder, exist_ok=True)\n",
    "\n",
    "# Save each predicted DataFrame as a CSV file in the output folder\n",
    "for country_code, predicted_df in country_predicted_dfs.items():\n",
    "    # Create the file path for the CSV file\n",
    "    file_path = os.path.join(output_folder, f\"{country_code}_predicted_df.csv\")\n",
    "\n",
    "    # Save the DataFrame to the CSV file\n",
    "    predicted_df.to_csv(file_path, index=False)\n",
    "\n",
    "    print(f\"Saved predicted DataFrame for {country_code} to {file_path}\")\n"
   ]
  },
  {
   "cell_type": "code",
   "execution_count": null,
   "id": "ae2da1a3",
   "metadata": {},
   "outputs": [],
   "source": []
  }
 ],
 "metadata": {
  "kernelspec": {
   "display_name": "Python 3 (ipykernel)",
   "language": "python",
   "name": "python3"
  },
  "language_info": {
   "codemirror_mode": {
    "name": "ipython",
    "version": 3
   },
   "file_extension": ".py",
   "mimetype": "text/x-python",
   "name": "python",
   "nbconvert_exporter": "python",
   "pygments_lexer": "ipython3",
   "version": "3.11.3"
  }
 },
 "nbformat": 4,
 "nbformat_minor": 5
}
